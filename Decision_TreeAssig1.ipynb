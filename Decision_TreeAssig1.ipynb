{
  "nbformat": 4,
  "nbformat_minor": 0,
  "metadata": {
    "colab": {
      "provenance": [],
      "authorship_tag": "ABX9TyPFYFDqoDT49fRWphAgN2mY",
      "include_colab_link": true
    },
    "kernelspec": {
      "name": "python3",
      "display_name": "Python 3"
    },
    "language_info": {
      "name": "python"
    }
  },
  "cells": [
    {
      "cell_type": "markdown",
      "metadata": {
        "id": "view-in-github",
        "colab_type": "text"
      },
      "source": [
        "<a href=\"https://colab.research.google.com/github/Riturajkumari/Decision/blob/main/Decision_TreeAssig1.ipynb\" target=\"_parent\"><img src=\"https://colab.research.google.com/assets/colab-badge.svg\" alt=\"Open In Colab\"/></a>"
      ]
    },
    {
      "cell_type": "markdown",
      "source": [
        "**Q1. Describe the decision tree classifier algorithm and how it works to make predictions.**"
      ],
      "metadata": {
        "id": "hiZe0QCnZvMy"
      }
    },
    {
      "cell_type": "markdown",
      "source": [
        "- A decision tree algorithm is one of the most popular machine learning algorithms. It uses a tree-like structure and their possible combinations to solve a particular problem. \n",
        "- The Decision Tree algorithm belongs to the family of supervised learning algorithms. Unlike other supervised learning algorithms, the decision tree algorithm can solve regression and classification problems.\n",
        "\n",
        "The goal of using a Decision Tree is to create a training model that can use to predict the class or value of the target variable by learning simple decision rules inferred from prior data(training data)."
      ],
      "metadata": {
        "id": "I_SkmLR7awSY"
      }
    },
    {
      "cell_type": "markdown",
      "source": [
        "##  works to make predictions.\n",
        "- Step-1: Begin the tree with the root node, says S, which contains the complete dataset.\n",
        "- Step-2: Find the best attribute in the dataset using Attribute Selection Measure (ASM).\n",
        "- Step-3: Divide the S into subsets that contains possible values for the best attributes.\n",
        "- Step-4: Generate the decision tree node, which contains the best attribute.\n",
        "- Step-5: Recursively make new decision trees using the subsets of the dataset created in step -3. Continue this process until a stage is reached where you cannot further classify the nodes and called the final node as a leaf node."
      ],
      "metadata": {
        "id": "HHOswkdQdw9H"
      }
    },
    {
      "cell_type": "code",
      "source": [],
      "metadata": {
        "id": "qxuZ3_uFZ4jU"
      },
      "execution_count": null,
      "outputs": []
    },
    {
      "cell_type": "code",
      "source": [],
      "metadata": {
        "id": "BtV2dLdJZ5Ql"
      },
      "execution_count": null,
      "outputs": []
    },
    {
      "cell_type": "markdown",
      "source": [
        "**Q2. Provide a step-by-step explanation of the mathematical intuition behind decision tree classification.**?"
      ],
      "metadata": {
        "id": "Al3RtkLdZ5fJ"
      }
    },
    {
      "cell_type": "markdown",
      "source": [
        "- Decision trees are a type of supervised learning algorithm used for classification and regression analysis. The algorithm works by recursively splitting the data into subsets based on the values of one of the input features. The goal is to create a model that predicts the value of a target variable based on several input variables. \n",
        "step-by-step explanation of how decision tree classification works:\n",
        "\n",
        "**Start with the entire dataset.**\n",
        "- Calculate the entropy of the dataset.\n",
        "*For each feature:*\n",
        "- Calculate the entropy of the dataset for each value of the feature.\n",
        "- Calculate the information gain for that feature.\n",
        "- Choose the feature with the highest information gain.\n",
        "-Split the dataset into subsets based on the values of that feature.\n",
        "- Repeat steps 2-5 recursively for each subset until all data points in a subset belong to the same class."
      ],
      "metadata": {
        "id": "KMro0CdOq_bL"
      }
    },
    {
      "cell_type": "code",
      "source": [],
      "metadata": {
        "id": "ORMVYHlYZ9aa"
      },
      "execution_count": null,
      "outputs": []
    },
    {
      "cell_type": "code",
      "source": [],
      "metadata": {
        "id": "pOAi_IF0Z-cR"
      },
      "execution_count": null,
      "outputs": []
    },
    {
      "cell_type": "markdown",
      "source": [
        "**Q3. Explain how a decision tree classifier can be used to solve a binary classification problem.**"
      ],
      "metadata": {
        "id": "rS0oqnQOZ-rY"
      }
    },
    {
      "cell_type": "markdown",
      "source": [
        "- A decision tree classifier is a type of machine learning model used for binary classification tasks. It is traversed sequentially by evaluating the truth of each logical statement until the final prediction outcome is reached. \n",
        "structure of a binary tree lends itself well to predicting a “yes” or “no” target.\n",
        "- binary classification, the goal is to predict the value of a variable where there are only two possibilities. A decision tree is a machine learning technique that can be used for binary classification or multi-class classification."
      ],
      "metadata": {
        "id": "sICIZL7rtB3l"
      }
    },
    {
      "cell_type": "code",
      "source": [],
      "metadata": {
        "id": "qiiDI7LOaCOR"
      },
      "execution_count": null,
      "outputs": []
    },
    {
      "cell_type": "code",
      "source": [],
      "metadata": {
        "id": "RhpuJ6fyaC5R"
      },
      "execution_count": null,
      "outputs": []
    },
    {
      "cell_type": "markdown",
      "source": [
        "**Q4. Discuss the geometric intuition behind decision tree classification and how it can be used to make\n",
        "predictions.**"
      ],
      "metadata": {
        "id": "dLchRQxzaDPk"
      }
    },
    {
      "cell_type": "markdown",
      "source": [
        "- Decision tree classification is a popular machine learning algorithm that is used for both classification and regression problems. The intuition behind decision trees is that you use the dataset features to create yes/no questions and continually split the dataset until you isolate all data points belonging to each class. With this process, you’re organizing the data in a tree structure.\n",
        "- The geometric intuition behind decision tree classification is that it creates a partition of the feature space into regions that correspond to different classes. The partition is created by recursively splitting the feature space into smaller regions using hyperplanes that are orthogonal to one of the feature axes.\n"
      ],
      "metadata": {
        "id": "XV4YvGZGtwcM"
      }
    },
    {
      "cell_type": "code",
      "source": [],
      "metadata": {
        "id": "80QIFHBiaGyf"
      },
      "execution_count": null,
      "outputs": []
    },
    {
      "cell_type": "code",
      "source": [],
      "metadata": {
        "id": "0ixn5XijaIRJ"
      },
      "execution_count": null,
      "outputs": []
    },
    {
      "cell_type": "markdown",
      "source": [
        "**Q5. Define the confusion matrix and describe how it can be used to evaluate the performance of a\n",
        "classification model.**"
      ],
      "metadata": {
        "id": "fX3Go0DtaIjf"
      }
    },
    {
      "cell_type": "markdown",
      "source": [
        "- A confusion matrix is a tabular summary of the number of correct and incorrect predictions made by a classifier. It is used to measure the performance of a classification model. It can be used to evaluate the performance of a classification model through the calculation of performance metrics like accuracy, precision, recall, and F1-score.\n",
        "\n",
        "- A confusion matrix is an N x N matrix used for evaluating the performance of a classification model, where N is the number of target classes. The matrix compares the actual target values with those predicted by the machine learning model.\n",
        "     A good model is one which has high TP and TN rates, while low FP and FN rates.\n",
        "If you have an imbalanced dataset to work with, it’s always better to use confusion matrix as your evaluation criteria for your machine learning model."
      ],
      "metadata": {
        "id": "orb8jQMfuUQF"
      }
    },
    {
      "cell_type": "code",
      "source": [],
      "metadata": {
        "id": "Q3_jVvnAaL0F"
      },
      "execution_count": null,
      "outputs": []
    },
    {
      "cell_type": "code",
      "source": [],
      "metadata": {
        "id": "2f7IqnXdaMlI"
      },
      "execution_count": null,
      "outputs": []
    },
    {
      "cell_type": "markdown",
      "source": [
        "**Q6. Provide an example of a confusion matrix and explain how precision, recall, and F1 score can be\n",
        "calculated from it.**"
      ],
      "metadata": {
        "id": "Jf10XlFXaM3Z"
      }
    },
    {
      "cell_type": "markdown",
      "source": [
        "- A confusion matrix in machine learning  helps quantify the variables influencing the performance, accuracy, and precision of your classification model . \n",
        "- Confusion matrices are a widely used measurement when attempting to solve classification issues. It helps solve both binary classification and multiclass classification issues.\n",
        "   - true Positive (TP)\tvalues that both turned out to be positive and were expected to be positive\n",
        "   - False Positive (FP)\tvalues that were genuinely anticipated to be negative but turned out to be positive. Also called a Type I error\n",
        "   - False Negative (FN)\tvalues are ones that were projected as negative but were actually positive. An error of the same type as Type II\n",
        "   - True Negative (TN)\tvalues are those that were both genuinely negative and projected to be negative"
      ],
      "metadata": {
        "id": "9T9UtcgMh8TV"
      }
    },
    {
      "cell_type": "markdown",
      "source": [
        "1. Accuracy\n",
        "\n",
        "Accuracy from confusion matrix is determined by dividing the total number of correctly predicted outcomes by all of the outcomes. It is one of the most often used metrics in classification.\n",
        "  formula : TP+TN/TP+FP+FN+TN"
      ],
      "metadata": {
        "id": "lRfpmbEzieYM"
      }
    },
    {
      "cell_type": "markdown",
      "source": [
        "2. 3. Precision\n",
        "\n",
        "Out of all positively expected outcomes, precision measures how many are truly good events.\n",
        "\n",
        "    - Precision can be calculated using the confusion matrix formula- \n",
        "           TP/TP+FP"
      ],
      "metadata": {
        "id": "tBqmbmXHi27M"
      }
    },
    {
      "cell_type": "markdown",
      "source": [
        "3. F1 score  \n",
        "- F1 score is another name for the F Measure. The balance between recall and precision is represented by the F1 score. The harmonic mean of Precision and Recall, or F beta score, captures both of their contributions."
      ],
      "metadata": {
        "id": "E9GNvfmzjJpk"
      }
    },
    {
      "cell_type": "markdown",
      "source": [
        "4. Recall \n",
        "- Recall is a metric used to determine how many positive outcomes out of all positive outcomes were properly predicted. \n",
        " formula : TP/TP+FN"
      ],
      "metadata": {
        "id": "vj7SNznVl8Ls"
      }
    },
    {
      "cell_type": "code",
      "source": [],
      "metadata": {
        "id": "ROQ0YtW-aR8T"
      },
      "execution_count": null,
      "outputs": []
    },
    {
      "cell_type": "markdown",
      "source": [
        "**Q7. Discuss the importance of choosing an appropriate evaluation metric for a classification problem and\n",
        "explain how this can be done.**"
      ],
      "metadata": {
        "id": "fOqmk576aSes"
      }
    },
    {
      "cell_type": "markdown",
      "source": [
        "Accuracy Evaluation Metrics :\n",
        "\n",
        "When the classes in a dataset are balanced—meaning if there is roughly an equal number of samples in each class — accuracy can serve as a simple and intuitive metric to evaluate a model’s performance.\n",
        "- In simple terms, accuracy measures the proportion of correct predictions made by the model.\n",
        "In this example, we have a total of 10 samples, of which 6 have been predicted correctly: \n",
        "actual : 0,1,1,0,0,1,0,1,0,1 \n",
        "predict : 0,0,1,1,0,1,1,1,1,1\n",
        "\n",
        " Accuracy = correct prection/ total prediction \n",
        "            6/10 = 0.6 \n",
        "            \n"
      ],
      "metadata": {
        "id": "ehHCnvNknSKC"
      }
    },
    {
      "cell_type": "markdown",
      "source": [
        "   -  A true positive (TP) occurs when the model correctly predicts the positive class. . TP=4\n",
        "\n",
        "   -  A true negative (TN) occurs when the model correctly predicts the negative class. TN= 2"
      ],
      "metadata": {
        "id": "VdEUZG1YA_Si"
      }
    },
    {
      "cell_type": "markdown",
      "source": [
        " Precision:\n",
        "\n",
        " The precision metric is suitable for measuring the proportion of correct positive predictions.\n",
        " precision provides a measure of the model’s ability to correctly identify true positive samples.\n",
        " - A false positive (FP) occurs when the model incorrectly predicts the positive class, indicating that a given condition exists when in reality it does not. \n",
        "  FP=3\n"
      ],
      "metadata": {
        "id": "O0S26y2HBdqJ"
      }
    },
    {
      "cell_type": "markdown",
      "source": [
        " precision=  TP/TP+FP\n",
        " \n",
        "      4/4+3= 0.57"
      ],
      "metadata": {
        "id": "3N0T4rbSB-DJ"
      }
    },
    {
      "cell_type": "markdown",
      "source": [
        "- recall : Recall measures the proportion of true positives that are correctly identified by the model.\n",
        "      - A false negative (FN) occurs when the model incorrectly predicts the negative class, indicating that a given condition is absent when in fact it is present. FN= 1\n",
        "       recall= TP/TP+FN  =  4/4+1 = 0.8\n",
        "          \n",
        "Example: Disease diagnosis. In COVID-19 testing, for instance, recall is a good choice when the goal is to detect as many positive cases as possible. In this case, a higher number of false positives is tolerated since the priority is to minimize false negatives in order to prevent the spread of the disease. Arguably, the cost of missing a positive case is much higher than misclassifying a negative case as positive.\n"
      ],
      "metadata": {
        "id": "rt9mOLqzCS0g"
      }
    },
    {
      "cell_type": "code",
      "source": [],
      "metadata": {
        "id": "1UD_212oaXKN"
      },
      "execution_count": null,
      "outputs": []
    },
    {
      "cell_type": "code",
      "source": [],
      "metadata": {
        "id": "VK4NI9RMaZAZ"
      },
      "execution_count": null,
      "outputs": []
    },
    {
      "cell_type": "markdown",
      "source": [
        "**Q8. Provide an example of a classification problem where precision is the most important metric, and\n",
        "explain why.**"
      ],
      "metadata": {
        "id": "L8CRc0FpaZNc"
      }
    },
    {
      "cell_type": "markdown",
      "source": [
        "- Precision is the most important metric in classification problems where the cost of false positives is high. For example, in medical diagnosis, a false positive can lead to unnecessary treatments or surgeries which can be harmful to the patient.  In such cases, precision is more important than recall. \n",
        "\n",
        "-  Precision is defined as the number of true positives divided by the sum of true positives and false positives. It measures how many of the predicted positive cases are actually positive. \n",
        "\n",
        "   - The most commonly used Performance metrics for classification problem are as follows,\n",
        "\n",
        "- Accuracy\n",
        "- Confusion Matrix\n",
        "- Precision, Recall, and F1 score"
      ],
      "metadata": {
        "id": "8HiQj-zdoE0r"
      }
    },
    {
      "cell_type": "markdown",
      "source": [
        "- Accuracy is the simple ratio between the number of correctly classified points to the total number of points."
      ],
      "metadata": {
        "id": "Ey4SRJqZo2Fr"
      }
    },
    {
      "cell_type": "code",
      "source": [
        "from sklearn.metrics import accuracy_score\n",
        "#predicted y values\n",
        "y_pred = [0, 2, 1, 3]\n",
        "#actual y values\n",
        "y_true = [0, 1, 2, 3]\n",
        "accuracy_score(y_true, y_pred)\n"
      ],
      "metadata": {
        "id": "UfEp6GcmadSi",
        "colab": {
          "base_uri": "https://localhost:8080/"
        },
        "outputId": "26c261f6-8bb2-4bd0-82e2-0425d75b7963"
      },
      "execution_count": 1,
      "outputs": [
        {
          "output_type": "execute_result",
          "data": {
            "text/plain": [
              "0.5"
            ]
          },
          "metadata": {},
          "execution_count": 1
        }
      ]
    },
    {
      "cell_type": "code",
      "source": [
        "from sklearn.metrics import confusion_matrix\n",
        "y_true = [2, 0, 2, 2, 0, 1]\n",
        "y_pred = [0, 0, 2, 2, 0, 2]\n",
        "confusion_matrix(y_true, y_pred)"
      ],
      "metadata": {
        "id": "2VQ3ex0JaeKL",
        "colab": {
          "base_uri": "https://localhost:8080/"
        },
        "outputId": "2f04f7bc-70bd-480a-db3d-023fdfdf20bf"
      },
      "execution_count": 2,
      "outputs": [
        {
          "output_type": "execute_result",
          "data": {
            "text/plain": [
              "array([[2, 0, 0],\n",
              "       [0, 0, 1],\n",
              "       [1, 0, 2]])"
            ]
          },
          "metadata": {},
          "execution_count": 2
        }
      ]
    },
    {
      "cell_type": "markdown",
      "source": [
        "**Q9. Provide an example of a classification problem where recall is the most important metric, and explain\n",
        "why.**"
      ],
      "metadata": {
        "id": "V2F1ZZVbaecY"
      }
    },
    {
      "cell_type": "markdown",
      "source": [
        "- Recall is a valid choice of evaluation metric when we want to capture as many positives as possible. For example, if we are building a system to predict if a person has cancer or not, we want to capture the disease even if we are not very sure.\n",
        "-  In such cases, recall is more important than precision. In other words, recall is the fraction of actual positives that are correctly identified by the model"
      ],
      "metadata": {
        "id": "WKXL6MsQpseF"
      }
    },
    {
      "cell_type": "markdown",
      "source": [
        "- Precision is the fraction of the correctly classified instances from the total classified instances. Recall is the fraction of the correctly classified instances from the total classified instances. "
      ],
      "metadata": {
        "id": "Unlo5q_DqYnj"
      }
    },
    {
      "cell_type": "code",
      "source": [],
      "metadata": {
        "id": "q-WwKISkah6f"
      },
      "execution_count": null,
      "outputs": []
    }
  ]
}